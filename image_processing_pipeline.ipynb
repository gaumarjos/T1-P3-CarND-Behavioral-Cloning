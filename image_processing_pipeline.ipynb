{
 "cells": [
  {
   "cell_type": "code",
   "execution_count": 53,
   "metadata": {},
   "outputs": [
    {
     "name": "stdout",
     "output_type": "stream",
     "text": [
      "(13430, 160, 320, 3)\n"
     ]
    }
   ],
   "source": [
    "import csv\n",
    "import cv2\n",
    "import numpy as np\n",
    "import matplotlib.pyplot as plt\n",
    "import sklearn\n",
    "from sklearn.model_selection import train_test_split\n",
    "\n",
    "\n",
    "### Parameters\n",
    "data_folder = 'data/'\n",
    "skip_first = False\n",
    "epochs = 10\n",
    "batch_size = 64\n",
    "use_lateral_images = False\n",
    "flip_dataset = True\n",
    "model_type = 'nvidia'\n",
    "learning_rate = 1e-03\n",
    "train_augmentation = 1 * (3 if use_lateral_images else 1)\n",
    "mode = 'train'\n",
    "\n",
    "\n",
    "### Import and split data log\n",
    "samples = []\n",
    "with open(data_folder + '/driving_log.csv') as csvfile:\n",
    "    reader = csv.reader(csvfile)\n",
    "    first = True\n",
    "    for row in reader:\n",
    "        if not first:\n",
    "            samples.append(row)\n",
    "        else:\n",
    "            first = False\n",
    "\n",
    "train_samples, validation_samples = train_test_split(samples, test_size=0.2)\n",
    "\n",
    "\n",
    "samples = train_samples\n",
    "\n",
    "\n",
    "num_samples = len(samples)\n",
    "sklearn.utils.shuffle(samples)\n",
    "       \n",
    "images = []\n",
    "angles = []\n",
    "\n",
    "for sample in samples:\n",
    "\n",
    "    # Read steering angle and compute adjusted steering measurements for the side camera images\n",
    "    steering_center = float(sample[3])\n",
    "    correction = 0.4\n",
    "    steering_left = steering_center + correction\n",
    "    steering_right = steering_center - correction\n",
    "\n",
    "    # Read in images from center, left and right cameras. Images are loaded as BGR as default, I change the color space to YUV.\n",
    "    path = data_folder + 'IMG/'\n",
    "    img_center = cv2.cvtColor(cv2.imread(path + sample[0].split('/')[-1]), cv2.COLOR_BGR2YUV)\n",
    "    img_left   = cv2.cvtColor(cv2.imread(path + sample[1].split('/')[-1]), cv2.COLOR_BGR2YUV)\n",
    "    img_right  = cv2.cvtColor(cv2.imread(path + sample[2].split('/')[-1]), cv2.COLOR_BGR2YUV)\n",
    "\n",
    "    # Add images and angles to dataset\n",
    "    if use_lateral_images and (mode == 'train'):\n",
    "        images_to_append = [img_center, img_left, img_right]\n",
    "        angles_to_append = [steering_center, steering_left, steering_right]\n",
    "    else:\n",
    "        images_to_append = [img_center]\n",
    "        angles_to_append = [steering_center]\n",
    "\n",
    "    # Flip some images\n",
    "    flipornot = bool(np.round(np.random.rand(1)))\n",
    "    if flip_dataset and flipornot and (mode == 'train'):\n",
    "        for image in images_to_append:\n",
    "            image = cv2.flip(image, 1)\n",
    "        for angle in angles_to_append:\n",
    "            angle = -1. * angle\n",
    "\n",
    "    # Append the results to the output list\n",
    "    images.extend(images_to_append)\n",
    "    angles.extend(angles_to_append)\n",
    "\n",
    "# Convert to numpy array and return\n",
    "X_train = np.array(images)\n",
    "y_train = np.array(angles)\n",
    "\n",
    "\n",
    "print(X_train.shape)"
   ]
  },
  {
   "cell_type": "code",
   "execution_count": 36,
   "metadata": {},
   "outputs": [
    {
     "data": {
      "image/png": "[encoded data removed]",
      "text/plain": [
       "<matplotlib.figure.Figure at 0x7fed8e9d8978>"
      ]
     },
     "metadata": {},
     "output_type": "display_data"
    }
   ],
   "source": [
    "import numpy as np\n",
    "import matplotlib.pyplot as plt\n",
    "import matplotlib.mlab as mlab\n",
    "\n",
    "f, ax = plt.subplots()\n",
    "bins = np.linspace(-1.5,+1.5,100)\n",
    "ax.hist(y_train, bins=bins, log=False)\n",
    "\n",
    "#title = 'Training and validation data sets'\n",
    "title = 'Training data set'\n",
    "\n",
    "ax.set_xlabel('Steering angle')\n",
    "ax.set_ylabel('Number of samples')\n",
    "#ax.set_ylabel('Number of samples (log)')\n",
    "ax.set_title(title)\n",
    "ax.grid(True)\n",
    "\n",
    "plt.show()\n",
    "figname = 'distr_train_no3.png'\n",
    "f.savefig(figname, bbox_inches='tight')\n",
    "\n"
   ]
  },
  {
   "cell_type": "code",
   "execution_count": 56,
   "metadata": {},
   "outputs": [
    {
     "name": "stdout",
     "output_type": "stream",
     "text": [
      "(8534,)\n"
     ]
    }
   ],
   "source": [
    "print(np.where(y_train==0)[0].shape)"
   ]
  },
  {
   "cell_type": "code",
   "execution_count": null,
   "metadata": {
    "collapsed": true
   },
   "outputs": [],
   "source": []
  }
 ],
 "metadata": {
  "kernelspec": {
   "display_name": "Python 3",
   "language": "python",
   "name": "python3"
  },
  "language_info": {
   "codemirror_mode": {
    "name": "ipython",
    "version": 3
   },
   "file_extension": ".py",
   "mimetype": "text/x-python",
   "name": "python",
   "nbconvert_exporter": "python",
   "pygments_lexer": "ipython3",
   "version": "3.5.2"
  },
  "widgets": {
   "state": {},
   "version": "1.1.2"
  }
 },
 "nbformat": 4,
 "nbformat_minor": 2
}
